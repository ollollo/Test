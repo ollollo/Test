{
 "cells": [
  {
   "cell_type": "code",
   "execution_count": 180,
   "metadata": {},
   "outputs": [],
   "source": [
    "import pandas as pd\n",
    "import numpy as np\n",
    "import matplotlib.pyplot as plt\n",
    "from datetime import datetime"
   ]
  },
  {
   "cell_type": "code",
   "execution_count": 181,
   "metadata": {},
   "outputs": [],
   "source": [
    "df = pd.read_excel('anal1t1k.xlsx')"
   ]
  },
  {
   "cell_type": "code",
   "execution_count": 182,
   "metadata": {},
   "outputs": [
    {
     "name": "stdout",
     "output_type": "stream",
     "text": [
      "Общее количество учеников: 51\n"
     ]
    }
   ],
   "source": [
    "all_students = 0\n",
    "X=[]\n",
    "for i in df['customer_id']:\n",
    "    if i not in X:\n",
    "        X.append(i)\n",
    "print(f'Общее количество учеников: {len(X)}')"
   ]
  },
  {
   "cell_type": "code",
   "execution_count": 183,
   "metadata": {},
   "outputs": [],
   "source": [
    "id = 354 # вводим id ученика\n",
    "\n",
    "if id in df['customer_id'].values:\n",
    "    index = df.index[df['customer_id']==id].tolist()\n",
    "else: print(\"Этого id в списке нет\")\n"
   ]
  },
  {
   "cell_type": "code",
   "execution_count": 184,
   "metadata": {},
   "outputs": [
    {
     "name": "stdout",
     "output_type": "stream",
     "text": [
      "13\n"
     ]
    }
   ],
   "source": [
    "\n",
    "dates = []\n",
    "visited_events = df.loc[index, 'event_id'].tolist()\n",
    "for i in index:\n",
    "    dates = np.append(dates, df['event_date'][i].date())\n",
    "is_attend = df.loc[index, 'is_attend'].tolist()\n",
    "count = is_attend.count(1)\n",
    "count_0 = is_attend.count(0)\n",
    "print(count)\n",
    "#print(is_attend)"
   ]
  },
  {
   "cell_type": "code",
   "execution_count": 185,
   "metadata": {},
   "outputs": [
    {
     "data": {
      "text/html": [
       "<div>\n",
       "<style scoped>\n",
       "    .dataframe tbody tr th:only-of-type {\n",
       "        vertical-align: middle;\n",
       "    }\n",
       "\n",
       "    .dataframe tbody tr th {\n",
       "        vertical-align: top;\n",
       "    }\n",
       "\n",
       "    .dataframe thead th {\n",
       "        text-align: right;\n",
       "    }\n",
       "</style>\n",
       "<table border=\"1\" class=\"dataframe\">\n",
       "  <thead>\n",
       "    <tr style=\"text-align: right;\">\n",
       "      <th></th>\n",
       "      <th>id</th>\n",
       "      <th>event_id</th>\n",
       "      <th>event_date</th>\n",
       "      <th>is_attend</th>\n",
       "    </tr>\n",
       "  </thead>\n",
       "  <tbody>\n",
       "    <tr>\n",
       "      <th>0</th>\n",
       "      <td>354</td>\n",
       "      <td>15</td>\n",
       "      <td>2020-06-03</td>\n",
       "      <td>1</td>\n",
       "    </tr>\n",
       "    <tr>\n",
       "      <th>1</th>\n",
       "      <td>354</td>\n",
       "      <td>34</td>\n",
       "      <td>2020-06-17</td>\n",
       "      <td>1</td>\n",
       "    </tr>\n",
       "    <tr>\n",
       "      <th>2</th>\n",
       "      <td>354</td>\n",
       "      <td>58</td>\n",
       "      <td>2020-07-15</td>\n",
       "      <td>1</td>\n",
       "    </tr>\n",
       "    <tr>\n",
       "      <th>3</th>\n",
       "      <td>354</td>\n",
       "      <td>19</td>\n",
       "      <td>2020-06-05</td>\n",
       "      <td>1</td>\n",
       "    </tr>\n",
       "    <tr>\n",
       "      <th>4</th>\n",
       "      <td>354</td>\n",
       "      <td>59</td>\n",
       "      <td>2020-07-08</td>\n",
       "      <td>1</td>\n",
       "    </tr>\n",
       "    <tr>\n",
       "      <th>5</th>\n",
       "      <td>354</td>\n",
       "      <td>47</td>\n",
       "      <td>2020-06-26</td>\n",
       "      <td>1</td>\n",
       "    </tr>\n",
       "    <tr>\n",
       "      <th>6</th>\n",
       "      <td>354</td>\n",
       "      <td>36</td>\n",
       "      <td>2020-06-19</td>\n",
       "      <td>1</td>\n",
       "    </tr>\n",
       "    <tr>\n",
       "      <th>7</th>\n",
       "      <td>354</td>\n",
       "      <td>42</td>\n",
       "      <td>2020-06-24</td>\n",
       "      <td>1</td>\n",
       "    </tr>\n",
       "    <tr>\n",
       "      <th>8</th>\n",
       "      <td>354</td>\n",
       "      <td>55</td>\n",
       "      <td>2020-07-03</td>\n",
       "      <td>1</td>\n",
       "    </tr>\n",
       "    <tr>\n",
       "      <th>9</th>\n",
       "      <td>354</td>\n",
       "      <td>61</td>\n",
       "      <td>2020-07-10</td>\n",
       "      <td>1</td>\n",
       "    </tr>\n",
       "    <tr>\n",
       "      <th>10</th>\n",
       "      <td>354</td>\n",
       "      <td>52</td>\n",
       "      <td>2020-07-01</td>\n",
       "      <td>1</td>\n",
       "    </tr>\n",
       "    <tr>\n",
       "      <th>11</th>\n",
       "      <td>354</td>\n",
       "      <td>25</td>\n",
       "      <td>2020-06-10</td>\n",
       "      <td>1</td>\n",
       "    </tr>\n",
       "    <tr>\n",
       "      <th>12</th>\n",
       "      <td>354</td>\n",
       "      <td>27</td>\n",
       "      <td>2020-06-12</td>\n",
       "      <td>1</td>\n",
       "    </tr>\n",
       "  </tbody>\n",
       "</table>\n",
       "</div>"
      ],
      "text/plain": [
       "     id  event_id  event_date  is_attend\n",
       "0   354        15  2020-06-03          1\n",
       "1   354        34  2020-06-17          1\n",
       "2   354        58  2020-07-15          1\n",
       "3   354        19  2020-06-05          1\n",
       "4   354        59  2020-07-08          1\n",
       "5   354        47  2020-06-26          1\n",
       "6   354        36  2020-06-19          1\n",
       "7   354        42  2020-06-24          1\n",
       "8   354        55  2020-07-03          1\n",
       "9   354        61  2020-07-10          1\n",
       "10  354        52  2020-07-01          1\n",
       "11  354        25  2020-06-10          1\n",
       "12  354        27  2020-06-12          1"
      ]
     },
     "execution_count": 185,
     "metadata": {},
     "output_type": "execute_result"
    }
   ],
   "source": [
    "is_attend_data = [round(count/len(is_attend),1), round(1-count/len(is_attend), 1)]\n",
    "data = {'id':id, 'event_id':visited_events, 'event_date':dates, 'is_attend':is_attend}\n",
    "df = pd.DataFrame(data)\n",
    "df"
   ]
  },
  {
   "cell_type": "code",
   "execution_count": 186,
   "metadata": {},
   "outputs": [
    {
     "data": {
      "image/png": "[encoded data removed]",
      "text/plain": [
       "<Figure size 600x600 with 1 Axes>"
      ]
     },
     "metadata": {},
     "output_type": "display_data"
    },
    {
     "name": "stdout",
     "output_type": "stream",
     "text": [
      "Общее количество посещений на которых был ученик 354: 13\n",
      "Общее количество посещений которые ученик 354 пропустил: 0\n"
     ]
    }
   ],
   "source": [
    "plt.figure(figsize=(6,6))\n",
    "plt.pie(is_attend_data,\n",
    "        labels=['was','no was'],\n",
    "        colors=['#8EEC6A', '#EC0033'],\n",
    "        autopct='%1.1f%%')\n",
    "plt.title(f'График посещения занятий учеником {id}')\n",
    "plt.show()\n",
    "print(f'Общее количество посещений на которых был ученик {id}: {count}')\n",
    "print(f'Общее количество посещений которые ученик {id} пропустил: {count_0}')"
   ]
  }
 ],
 "metadata": {
  "kernelspec": {
   "display_name": "Python 3",
   "language": "python",
   "name": "python3"
  },
  "language_info": {
   "codemirror_mode": {
    "name": "ipython",
    "version": 3
   },
   "file_extension": ".py",
   "mimetype": "text/x-python",
   "name": "python",
   "nbconvert_exporter": "python",
   "pygments_lexer": "ipython3",
   "version": "3.11.5"
  }
 },
 "nbformat": 4,
 "nbformat_minor": 2
}
